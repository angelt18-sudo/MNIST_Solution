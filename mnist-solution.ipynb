{
 "cells": [
  {
   "cell_type": "markdown",
   "metadata": {},
   "source": [
    "<a id=\"inicio\"></a>\n",
    "<br><br><br>\n",
    "<h2><font color=\"#B51700\" size=5>MNIST (Digit Recognizer)</font></h2>\n",
    "\n",
    "\n",
    "\n",
    "<h1><font size=5>Visión por computador: CNN y transfer learning con Keras</font></h1>\n",
    "\n",
    "\n",
    "---"
   ]
  },
  {
   "cell_type": "markdown",
   "metadata": {},
   "source": [
    "***Importante:*** no se garantiza la reproducibilidad exacta de la libreta debido al uso de la GPU. Aunque se deben de obtener resultados similares."
   ]
  },
  {
   "cell_type": "markdown",
   "metadata": {},
   "source": [
    "# 1. Introducción\n",
    "\n",
    "En este notebook se trabajará con el problema de visión por computador `MNIST`. Este conjunto de datos contiene imágenes de dígitos escritos a mano y el objetivo es entrenar un modelo que sea capaz de identificar que dígito hay en cada imagen. Los datos han sido extraídos de la competición de `kaggle` [Digit Recognizer](https://www.kaggle.com/competitions/digit-recognizer).\n",
    "\n",
    "`MNIST` (Modified National Institute of Standards and Technology) es el conjunto de datos perfecto para introducirnos en el mundo de la visión por computador. Se podría decir que es el \"hello world\" de los conjuntos de datos de este tipo de problemas.\n",
    "\n",
    "El objetivo principal de este notebook es ser bastante completo y que pueda ser usado como guía o tutorial para trabajar con este tipo de problemas. No es un objetivo obtener un score demasiado alto aunque aun así se han obtenido buenos resultados.\n",
    "\n",
    "A lo largo de este notebook se utilizará la librería `Keras` para crear las redes neuronales que se utilizarán para resolver el problema.\n",
    "\n",
    "Primero se realizará la carga de los datos y se visualizarán algunas imágenes. Después se aplicará la técnica `aumento de datos` para crear más imágenes de entrenamiento que nos permitan obtener mejores resultados. Llegados a este punto se definirán y entrenarán las redes neuronales que utilizaremos para resolver el problema. Utilizando la librería `Keras` se definirá una red neuronal convolucional y una segunda red aplicando `transfer learning` con el modelo `VGG16`. Después de entrenar a estos dos modelos se definirá una tercera red neuronal que resultará de la unión de estos dos modelos (`ensemble`). Finalmente se guardarán los modelos entrenados y se realizará la predicción sobre el conjunto de test."
   ]
  },
  {
   "cell_type": "markdown",
   "metadata": {},
   "source": [
    "Empezaremos importando las librerías necesarias."
   ]
  },
  {
   "cell_type": "code",
   "execution_count": 1,
   "metadata": {
    "execution": {
     "iopub.execute_input": "2023-04-12T15:43:58.548394Z",
     "iopub.status.busy": "2023-04-12T15:43:58.548113Z",
     "iopub.status.idle": "2023-04-12T15:44:09.529029Z",
     "shell.execute_reply": "2023-04-12T15:44:09.527864Z",
     "shell.execute_reply.started": "2023-04-12T15:43:58.548366Z"
    }
   },
   "outputs": [],
   "source": [
    "import pandas as pd\n",
    "import matplotlib.pyplot as plt\n",
    "import seaborn as sns\n",
    "import numpy as np\n",
    "\n",
    "from sklearn.model_selection import train_test_split\n",
    "\n",
    "import tensorflow as tf\n",
    "from keras.applications import VGG16, VGG19\n",
    "from keras.layers import Input, Dense, Flatten, Conv2D, MaxPooling2D, Conv2DTranspose, Dropout\n",
    "from keras.layers import GaussianNoise, Average, BatchNormalization, Lambda, Resizing\n",
    "from keras.models import Sequential, Model, load_model\n",
    "from keras.preprocessing.image import ImageDataGenerator\n",
    "from keras.utils.np_utils import to_categorical\n",
    "from keras.utils.vis_utils import plot_model"
   ]
  },
  {
   "cell_type": "markdown",
   "metadata": {},
   "source": [
    "Para trabajar con redes neuronales de una forma más eficiente, vamos a comprobar si tenemos activa la GPU para reducir el tiempo de ejecución de la libreta."
   ]
  },
  {
   "cell_type": "code",
   "execution_count": 2,
   "metadata": {
    "execution": {
     "iopub.execute_input": "2023-04-12T15:44:09.532071Z",
     "iopub.status.busy": "2023-04-12T15:44:09.531225Z",
     "iopub.status.idle": "2023-04-12T15:44:09.863157Z",
     "shell.execute_reply": "2023-04-12T15:44:09.861876Z",
     "shell.execute_reply.started": "2023-04-12T15:44:09.532027Z"
    }
   },
   "outputs": [],
   "source": [
    "physical_devices = tf.config.list_physical_devices('GPU')\n",
    "if not physical_devices:\n",
    "    raise RuntimeError('No GPU devices are used in the host')"
   ]
  },
  {
   "cell_type": "markdown",
   "metadata": {},
   "source": [
    "Antes de cargar los datos y empezar a trabajar en el problema se va a establecer una semilla para que los resultados obtenidos a lo largo de la libreta puedan ser reproducibles. Aunque al estar utilizando Keras con la GPU activada no se pueden reproducir los experimentos, aún así vamos a usar la semilla ya que es una buena práctica."
   ]
  },
  {
   "cell_type": "code",
   "execution_count": 3,
   "metadata": {
    "execution": {
     "iopub.execute_input": "2023-04-12T15:44:09.865253Z",
     "iopub.status.busy": "2023-04-12T15:44:09.864468Z",
     "iopub.status.idle": "2023-04-12T15:44:09.873896Z",
     "shell.execute_reply": "2023-04-12T15:44:09.872827Z",
     "shell.execute_reply.started": "2023-04-12T15:44:09.865190Z"
    }
   },
   "outputs": [],
   "source": [
    "seed = 42"
   ]
  },
  {
   "cell_type": "markdown",
   "metadata": {},
   "source": [
    "# 2. Carga de datos\n",
    "\n",
    "Se van a cargar los datos que se van a usar para entrenar y validar los modelos."
   ]
  },
  {
   "cell_type": "code",
   "execution_count": 4,
   "metadata": {
    "execution": {
     "iopub.execute_input": "2023-04-12T15:44:09.877516Z",
     "iopub.status.busy": "2023-04-12T15:44:09.877108Z",
     "iopub.status.idle": "2023-04-12T15:44:12.984928Z",
     "shell.execute_reply": "2023-04-12T15:44:12.983733Z",
     "shell.execute_reply.started": "2023-04-12T15:44:09.877453Z"
    }
   },
   "outputs": [],
   "source": [
    "path_data = './data/'\n",
    "train_df = pd.read_csv(path_data + 'train.csv')"
   ]
  },
  {
   "cell_type": "markdown",
   "metadata": {},
   "source": [
    "Visualizamos 5 muestras de ejemplo. Podemos ver que cada muestra tiene 785 valores.\n",
    "\n",
    "La columna `label` es la variable clase que indica el dígito que hay en esa imagen. El resto de las 784 columnas restantes son los píxeles de la imagen."
   ]
  },
  {
   "cell_type": "code",
   "execution_count": 5,
   "metadata": {
    "execution": {
     "iopub.execute_input": "2023-04-12T15:44:12.986737Z",
     "iopub.status.busy": "2023-04-12T15:44:12.986345Z",
     "iopub.status.idle": "2023-04-12T15:44:13.017017Z",
     "shell.execute_reply": "2023-04-12T15:44:13.015945Z",
     "shell.execute_reply.started": "2023-04-12T15:44:12.986697Z"
    }
   },
   "outputs": [
    {
     "data": {
      "text/html": [
       "<div>\n",
       "<style scoped>\n",
       "    .dataframe tbody tr th:only-of-type {\n",
       "        vertical-align: middle;\n",
       "    }\n",
       "\n",
       "    .dataframe tbody tr th {\n",
       "        vertical-align: top;\n",
       "    }\n",
       "\n",
       "    .dataframe thead th {\n",
       "        text-align: right;\n",
       "    }\n",
       "</style>\n",
       "<table border=\"1\" class=\"dataframe\">\n",
       "  <thead>\n",
       "    <tr style=\"text-align: right;\">\n",
       "      <th></th>\n",
       "      <th>label</th>\n",
       "      <th>pixel0</th>\n",
       "      <th>pixel1</th>\n",
       "      <th>pixel2</th>\n",
       "      <th>pixel3</th>\n",
       "      <th>pixel4</th>\n",
       "      <th>pixel5</th>\n",
       "      <th>pixel6</th>\n",
       "      <th>pixel7</th>\n",
       "      <th>pixel8</th>\n",
       "      <th>...</th>\n",
       "      <th>pixel774</th>\n",
       "      <th>pixel775</th>\n",
       "      <th>pixel776</th>\n",
       "      <th>pixel777</th>\n",
       "      <th>pixel778</th>\n",
       "      <th>pixel779</th>\n",
       "      <th>pixel780</th>\n",
       "      <th>pixel781</th>\n",
       "      <th>pixel782</th>\n",
       "      <th>pixel783</th>\n",
       "    </tr>\n",
       "  </thead>\n",
       "  <tbody>\n",
       "    <tr>\n",
       "      <th>5457</th>\n",
       "      <td>8</td>\n",
       "      <td>0</td>\n",
       "      <td>0</td>\n",
       "      <td>0</td>\n",
       "      <td>0</td>\n",
       "      <td>0</td>\n",
       "      <td>0</td>\n",
       "      <td>0</td>\n",
       "      <td>0</td>\n",
       "      <td>0</td>\n",
       "      <td>...</td>\n",
       "      <td>0</td>\n",
       "      <td>0</td>\n",
       "      <td>0</td>\n",
       "      <td>0</td>\n",
       "      <td>0</td>\n",
       "      <td>0</td>\n",
       "      <td>0</td>\n",
       "      <td>0</td>\n",
       "      <td>0</td>\n",
       "      <td>0</td>\n",
       "    </tr>\n",
       "    <tr>\n",
       "      <th>38509</th>\n",
       "      <td>1</td>\n",
       "      <td>0</td>\n",
       "      <td>0</td>\n",
       "      <td>0</td>\n",
       "      <td>0</td>\n",
       "      <td>0</td>\n",
       "      <td>0</td>\n",
       "      <td>0</td>\n",
       "      <td>0</td>\n",
       "      <td>0</td>\n",
       "      <td>...</td>\n",
       "      <td>0</td>\n",
       "      <td>0</td>\n",
       "      <td>0</td>\n",
       "      <td>0</td>\n",
       "      <td>0</td>\n",
       "      <td>0</td>\n",
       "      <td>0</td>\n",
       "      <td>0</td>\n",
       "      <td>0</td>\n",
       "      <td>0</td>\n",
       "    </tr>\n",
       "    <tr>\n",
       "      <th>25536</th>\n",
       "      <td>9</td>\n",
       "      <td>0</td>\n",
       "      <td>0</td>\n",
       "      <td>0</td>\n",
       "      <td>0</td>\n",
       "      <td>0</td>\n",
       "      <td>0</td>\n",
       "      <td>0</td>\n",
       "      <td>0</td>\n",
       "      <td>0</td>\n",
       "      <td>...</td>\n",
       "      <td>0</td>\n",
       "      <td>0</td>\n",
       "      <td>0</td>\n",
       "      <td>0</td>\n",
       "      <td>0</td>\n",
       "      <td>0</td>\n",
       "      <td>0</td>\n",
       "      <td>0</td>\n",
       "      <td>0</td>\n",
       "      <td>0</td>\n",
       "    </tr>\n",
       "    <tr>\n",
       "      <th>31803</th>\n",
       "      <td>9</td>\n",
       "      <td>0</td>\n",
       "      <td>0</td>\n",
       "      <td>0</td>\n",
       "      <td>0</td>\n",
       "      <td>0</td>\n",
       "      <td>0</td>\n",
       "      <td>0</td>\n",
       "      <td>0</td>\n",
       "      <td>0</td>\n",
       "      <td>...</td>\n",
       "      <td>0</td>\n",
       "      <td>0</td>\n",
       "      <td>0</td>\n",
       "      <td>0</td>\n",
       "      <td>0</td>\n",
       "      <td>0</td>\n",
       "      <td>0</td>\n",
       "      <td>0</td>\n",
       "      <td>0</td>\n",
       "      <td>0</td>\n",
       "    </tr>\n",
       "    <tr>\n",
       "      <th>39863</th>\n",
       "      <td>8</td>\n",
       "      <td>0</td>\n",
       "      <td>0</td>\n",
       "      <td>0</td>\n",
       "      <td>0</td>\n",
       "      <td>0</td>\n",
       "      <td>0</td>\n",
       "      <td>0</td>\n",
       "      <td>0</td>\n",
       "      <td>0</td>\n",
       "      <td>...</td>\n",
       "      <td>0</td>\n",
       "      <td>0</td>\n",
       "      <td>0</td>\n",
       "      <td>0</td>\n",
       "      <td>0</td>\n",
       "      <td>0</td>\n",
       "      <td>0</td>\n",
       "      <td>0</td>\n",
       "      <td>0</td>\n",
       "      <td>0</td>\n",
       "    </tr>\n",
       "  </tbody>\n",
       "</table>\n",
       "<p>5 rows × 785 columns</p>\n",
       "</div>"
      ],
      "text/plain": [
       "       label  pixel0  pixel1  pixel2  pixel3  pixel4  pixel5  pixel6  pixel7  \\\n",
       "5457       8       0       0       0       0       0       0       0       0   \n",
       "38509      1       0       0       0       0       0       0       0       0   \n",
       "25536      9       0       0       0       0       0       0       0       0   \n",
       "31803      9       0       0       0       0       0       0       0       0   \n",
       "39863      8       0       0       0       0       0       0       0       0   \n",
       "\n",
       "       pixel8  ...  pixel774  pixel775  pixel776  pixel777  pixel778  \\\n",
       "5457        0  ...         0         0         0         0         0   \n",
       "38509       0  ...         0         0         0         0         0   \n",
       "25536       0  ...         0         0         0         0         0   \n",
       "31803       0  ...         0         0         0         0         0   \n",
       "39863       0  ...         0         0         0         0         0   \n",
       "\n",
       "       pixel779  pixel780  pixel781  pixel782  pixel783  \n",
       "5457          0         0         0         0         0  \n",
       "38509         0         0         0         0         0  \n",
       "25536         0         0         0         0         0  \n",
       "31803         0         0         0         0         0  \n",
       "39863         0         0         0         0         0  \n",
       "\n",
       "[5 rows x 785 columns]"
      ]
     },
     "execution_count": 5,
     "metadata": {},
     "output_type": "execute_result"
    }
   ],
   "source": [
    "train_df.sample(5, random_state=seed)"
   ]
  },
  {
   "cell_type": "markdown",
   "metadata": {},
   "source": [
    "Ahora se va comprobar si tenemos algún valor `null` y la forma de los datos."
   ]
  },
  {
   "cell_type": "code",
   "execution_count": 6,
   "metadata": {
    "execution": {
     "iopub.execute_input": "2023-04-12T15:44:13.019112Z",
     "iopub.status.busy": "2023-04-12T15:44:13.018738Z",
     "iopub.status.idle": "2023-04-12T15:44:13.065351Z",
     "shell.execute_reply": "2023-04-12T15:44:13.064425Z",
     "shell.execute_reply.started": "2023-04-12T15:44:13.019074Z"
    }
   },
   "outputs": [
    {
     "name": "stdout",
     "output_type": "stream",
     "text": [
      "Shape: (42000, 785)\n",
      "Cantidad de valores null: 0\n"
     ]
    }
   ],
   "source": [
    "print('Shape: ' + str(train_df.shape))\n",
    "print('Cantidad de valores null: ' + str(train_df.isnull().sum().sum()))"
   ]
  },
  {
   "cell_type": "markdown",
   "metadata": {},
   "source": [
    "Vamos a comprobar si tenemos un dataset balanceado o no mediante un gráfico."
   ]
  },
  {
   "cell_type": "code",
   "execution_count": 7,
   "metadata": {
    "execution": {
     "iopub.execute_input": "2023-04-12T15:44:13.067163Z",
     "iopub.status.busy": "2023-04-12T15:44:13.066729Z",
     "iopub.status.idle": "2023-04-12T15:44:13.343997Z",
     "shell.execute_reply": "2023-04-12T15:44:13.342878Z",
     "shell.execute_reply.started": "2023-04-12T15:44:13.067126Z"
    }
   },
   "outputs": [
    {
     "data": {
      "text/plain": [
       "<AxesSubplot:xlabel='label', ylabel='count'>"
      ]
     },
     "execution_count": 7,
     "metadata": {},
     "output_type": "execute_result"
    },
    {
     "data": {
      "image/png": "[encoded data removed]",
      "text/plain": [
       "<Figure size 432x288 with 1 Axes>"
      ]
     },
     "metadata": {
      "needs_background": "light"
     },
     "output_type": "display_data"
    }
   ],
   "source": [
    "sns.countplot(data = train_df, x = 'label')"
   ]
  },
  {
   "cell_type": "markdown",
   "metadata": {},
   "source": [
    "Aquí podemos ver que tenemos un `dataset balanceado` en el que tenemos más o menos una cantidad similar de valores para cada posible valor de la variable clase."
   ]
  },
  {
   "cell_type": "markdown",
   "metadata": {},
   "source": [
    "A partir del dataframe de pandas vamos a extraer la variable `y` (columna label) y la variable `X` (columnas píxel). Como vimos anteriormente para la variable `X` tenemos 784 valores. Vamos a estructurarlos en una matriz de 28x28.\n",
    "\n",
    "Así, para cada imagen tendremos una matriz de píxeles de 28x28."
   ]
  },
  {
   "cell_type": "code",
   "execution_count": 8,
   "metadata": {
    "execution": {
     "iopub.execute_input": "2023-04-12T15:44:29.191368Z",
     "iopub.status.busy": "2023-04-12T15:44:29.190186Z",
     "iopub.status.idle": "2023-04-12T15:44:29.276398Z",
     "shell.execute_reply": "2023-04-12T15:44:29.275135Z",
     "shell.execute_reply.started": "2023-04-12T15:44:29.191320Z"
    }
   },
   "outputs": [
    {
     "data": {
      "text/plain": [
       "(42000, 28, 28, 1)"
      ]
     },
     "execution_count": 8,
     "metadata": {},
     "output_type": "execute_result"
    }
   ],
   "source": [
    "y_train_full = train_df[\"label\"].values\n",
    "X_train_full = train_df.drop(\"label\", axis=1).values.reshape(-1, 28, 28, 1)\n",
    "\n",
    "X_train_full.shape"
   ]
  },
  {
   "cell_type": "markdown",
   "metadata": {},
   "source": [
    "Vamos a convertir también la variable clase en una variable categórica. En este caso tendremos 10 categorías, una por cada número del 0 al 9."
   ]
  },
  {
   "cell_type": "code",
   "execution_count": 9,
   "metadata": {
    "execution": {
     "iopub.execute_input": "2023-04-12T15:44:30.050726Z",
     "iopub.status.busy": "2023-04-12T15:44:30.049823Z",
     "iopub.status.idle": "2023-04-12T15:44:30.056849Z",
     "shell.execute_reply": "2023-04-12T15:44:30.055650Z",
     "shell.execute_reply.started": "2023-04-12T15:44:30.050673Z"
    }
   },
   "outputs": [
    {
     "data": {
      "text/plain": [
       "(42000, 10)"
      ]
     },
     "execution_count": 9,
     "metadata": {},
     "output_type": "execute_result"
    }
   ],
   "source": [
    "y_train_full = to_categorical(y_train_full, num_classes = 10)\n",
    "y_train_full.shape"
   ]
  },
  {
   "cell_type": "markdown",
   "metadata": {},
   "source": [
    "Visualizamos al azar 10 muestras del conjunto de datos."
   ]
  },
  {
   "cell_type": "code",
   "execution_count": 10,
   "metadata": {
    "execution": {
     "iopub.execute_input": "2023-04-12T15:44:31.724146Z",
     "iopub.status.busy": "2023-04-12T15:44:31.722958Z",
     "iopub.status.idle": "2023-04-12T15:44:32.020601Z",
     "shell.execute_reply": "2023-04-12T15:44:32.019182Z",
     "shell.execute_reply.started": "2023-04-12T15:44:31.724100Z"
    }
   },
   "outputs": [
    {
     "data": {
      "text/plain": [
       "<Figure size 1152x864 with 0 Axes>"
      ]
     },
     "metadata": {},
     "output_type": "display_data"
    },
    {
     "data": {
      "image/png": "[encoded data removed]",
      "text/plain": [
       "<Figure size 720x720 with 10 Axes>"
      ]
     },
     "metadata": {
      "needs_background": "light"
     },
     "output_type": "display_data"
    }
   ],
   "source": [
    "plt.figure(figsize=(16, 12), tight_layout=True, facecolor=\"white\")\n",
    "\n",
    "np.random.seed(seed)\n",
    "random_index = np.random.choice(len(X_train_full), size=10, replace=False)\n",
    "\n",
    "fig, axis = plt.subplots(1, 10, figsize=(10,10))\n",
    "for i, ax in enumerate(axis.flat):\n",
    "    ax.imshow(X_train_full[random_index[i]], cmap='binary')\n",
    "    ax.set(title = y_train_full[random_index[i]].argmax())\n",
    "    ax.axis(\"off\")\n",
    "    \n",
    "plt.show()"
   ]
  },
  {
   "cell_type": "markdown",
   "metadata": {},
   "source": [
    "Para acabar con la carga de datos se va a divir el conjunto de datos de entrenamiento en dos:\n",
    "\n",
    "- Conjunto de datos de entrenamiento: datos que se usarán para seleccionar la mejor configuración de parámetros para los modelos y entrenarlos con esa configuración.\n",
    "- Conjunto de datos de validación: datos que se usarán después de entrenar los modelos con la mejor configuración de parámetros para evaluar su rendimiento.\n",
    "\n",
    "***Importante:*** aunque se tiene un conjunto de datos balanceado se va a realizar una partición de datos estratificada para mantener el mismo porcentaje de valores de la variable clase.\n"
   ]
  },
  {
   "cell_type": "code",
   "execution_count": 11,
   "metadata": {
    "execution": {
     "iopub.execute_input": "2023-04-12T15:44:32.745470Z",
     "iopub.status.busy": "2023-04-12T15:44:32.744955Z",
     "iopub.status.idle": "2023-04-12T15:44:33.488758Z",
     "shell.execute_reply": "2023-04-12T15:44:33.487396Z",
     "shell.execute_reply.started": "2023-04-12T15:44:32.745430Z"
    }
   },
   "outputs": [],
   "source": [
    "X_train, X_val, y_train, y_val = train_test_split(\n",
    "    X_train_full, y_train_full, test_size=0.2, stratify=y_train_full, random_state=seed\n",
    ")"
   ]
  },
  {
   "cell_type": "markdown",
   "metadata": {},
   "source": [
    "Visualizamos el formato de los datos para ambos conjuntos."
   ]
  },
  {
   "cell_type": "code",
   "execution_count": 12,
   "metadata": {
    "execution": {
     "iopub.execute_input": "2023-04-12T15:44:34.079698Z",
     "iopub.status.busy": "2023-04-12T15:44:34.078573Z",
     "iopub.status.idle": "2023-04-12T15:44:34.089175Z",
     "shell.execute_reply": "2023-04-12T15:44:34.087971Z",
     "shell.execute_reply.started": "2023-04-12T15:44:34.079647Z"
    }
   },
   "outputs": [
    {
     "name": "stdout",
     "output_type": "stream",
     "text": [
      "Datos de entrenamiento: (33600, 28, 28, 1)(33600, 10)\n",
      "Datos de validación: (8400, 28, 28, 1)(8400, 10)\n"
     ]
    }
   ],
   "source": [
    "print('Datos de entrenamiento: ' + str(X_train.shape) + str(y_train.shape))\n",
    "print('Datos de validación: ' + str(X_val.shape) + str(y_val.shape))"
   ]
  },
  {
   "cell_type": "markdown",
   "metadata": {},
   "source": [
    "Vemos que tenemos 33600 muestras para el entrenamiento y 8400 para la validación.\n",
    "- Cada muestra de la variable X es una matriz (imagen) de 28x28x1.\n",
    "- Para la variable y tenemos una variable categórica con 10 valores."
   ]
  },
  {
   "cell_type": "markdown",
   "metadata": {},
   "source": [
    "# 3. Aumento de datos\n",
    "\n",
    "Ahora se va a aplicar la técnica aumento de datos. Esta técnica, también conocida como `data augmentation`, se refiere a la manipulación de los datos de entrada para crear nuevos datos que son similares a los originales pero tienen alguna variación. Esta técnica es ampliamente utilizada en el aprendizaje automático y en la visión por computador.\n",
    "\n",
    "Las ventajas de utilizar esta técnica es que permite:\n",
    "- Aumentar la cantidad de datos de entrenamiento disponibles para el modelo.\n",
    "- Mejorar la generalización.\n",
    "- Prevenir el sobreajuste.\n",
    "\n",
    "Keras nos permite aplicar esta técnica de una forma muy sencilla utilizando el objeto `ImageDataGenerator`. En este caso se generarán dos generadores, uno para los datos de entrenamiento y validación y otro para los datos de prueba.\n",
    "\n",
    "El aumento de datos que vamos a aplicar es:\n",
    "* `rescale`: sirve para normalizar la imagen. Como los píxeles de la imagen original tienen un valor dentro del rango [0,255] y la red neuronal admite como entrada valores entre el 0 y 1, tenemos que normalizar los valores. Esto hay que realizarlo sobre las imágenes de test y de validación también.\n",
    "* `zoom_range`: aplica zoom de forma aleatoria a la imagen original. En este caso vamos a añadir un 10% máximo de zoom.\n",
    "* `width_shift_range`: aplica de forma aleatoria un desplazamiento en las imagenes de forma horizontal. Un máximo del 10%.\n",
    "* `height_shift_range`: aplica de forma aleatoria un desplazamiento en las imagenes de forma vertical. Un máximo del 10%\n",
    "* `rotation_range`: aplica de forma aleatoria rotación sobre la imagen original. Un máximo de 10 grados.\n",
    "\n",
    "***Nota1:*** No añadiremos la rotación de las imagenes, ya que con una rotación vertical se puede confundir un 6 con un 9 o viceversa.\n",
    "\n",
    "***Nota2:*** Solo le vamos a aplicar aumento de datos al conjunto de entrenamiento. En el generador para los datos de prueba solo se aplicará un reescalado a los datos de entrada, ya que no conviene modificar los datos de prueba y validación."
   ]
  },
  {
   "cell_type": "code",
   "execution_count": 13,
   "metadata": {
    "execution": {
     "iopub.execute_input": "2023-04-12T15:44:37.023443Z",
     "iopub.status.busy": "2023-04-12T15:44:37.022974Z",
     "iopub.status.idle": "2023-04-12T15:44:37.029481Z",
     "shell.execute_reply": "2023-04-12T15:44:37.027983Z",
     "shell.execute_reply.started": "2023-04-12T15:44:37.023399Z"
    }
   },
   "outputs": [],
   "source": [
    "rescale = 1 / 255\n",
    "\n",
    "train_generator = ImageDataGenerator(rescale=rescale,\n",
    "                                     zoom_range = 0.1,\n",
    "                                     width_shift_range = 0.1,\n",
    "                                     height_shift_range = 0.1,\n",
    "                                     rotation_range = 10)\n",
    "\n",
    "test_generator = ImageDataGenerator(rescale=rescale)"
   ]
  },
  {
   "cell_type": "markdown",
   "metadata": {},
   "source": [
    "Ahora hay que construir los iteradores a partir de los generadores de imágenes que se han definido. \n",
    "\n",
    "Los `iteradores` nos permiten iterar sobre los datos y generar un batch de datos aumentados, aplicando las transformaciones indicadas en el generador."
   ]
  },
  {
   "cell_type": "code",
   "execution_count": 14,
   "metadata": {
    "execution": {
     "iopub.execute_input": "2023-04-12T15:44:37.871900Z",
     "iopub.status.busy": "2023-04-12T15:44:37.871163Z",
     "iopub.status.idle": "2023-04-12T15:44:37.931184Z",
     "shell.execute_reply": "2023-04-12T15:44:37.930068Z",
     "shell.execute_reply.started": "2023-04-12T15:44:37.871853Z"
    }
   },
   "outputs": [],
   "source": [
    "batch_size = 64\n",
    "\n",
    "train_iterator = train_generator.flow(X_train, y_train, batch_size=batch_size, seed=seed)\n",
    "val_iterator = test_generator.flow(X_val, y_val, batch_size=batch_size, seed=seed)"
   ]
  },
  {
   "cell_type": "markdown",
   "metadata": {},
   "source": [
    "# 4. Modelos basados en redes neuronales\n",
    "\n",
    "Aquí se van a definir dos modelos basados en redes neuronales para resolver el problema de `MNIST`."
   ]
  },
  {
   "cell_type": "markdown",
   "metadata": {},
   "source": [
    "## 4.1. CNN\n",
    "\n",
    "El primer modelo será una red neuronal convolucional (CNN).\n",
    "\n",
    "Primero se guarda en una variable el formato de la entrada de los datos a la red neuronal. Como vimos anteriormente cada dato de entrada es una imagen de 28x28x1."
   ]
  },
  {
   "cell_type": "code",
   "execution_count": 15,
   "metadata": {
    "execution": {
     "iopub.execute_input": "2023-04-12T15:44:39.877059Z",
     "iopub.status.busy": "2023-04-12T15:44:39.876476Z",
     "iopub.status.idle": "2023-04-12T15:44:39.882458Z",
     "shell.execute_reply": "2023-04-12T15:44:39.881209Z",
     "shell.execute_reply.started": "2023-04-12T15:44:39.877021Z"
    }
   },
   "outputs": [],
   "source": [
    "input_shape = (28,28,1)"
   ]
  },
  {
   "cell_type": "markdown",
   "metadata": {},
   "source": [
    "La estructura de la red neuronal convolucional contará con la siguiente secuencia de capas:\n",
    "\n",
    "* Como primera capa utilizaremos una capa `GaussianNoise` para añadir ruido aleatorio gausiano para evitar el sobreajuste al conjunto de datos de entrenamiento y así que la red aprenda a tratar con datos ruidosos. Como la primera capa de la red necesita definir la forma de los datos de entrada, esta capa no puede ser la primera, por lo que hay que añadir una capa `Input` que nos permite definir la forma de los datos de entrada.\n",
    "\n",
    "* Después aplicamos dos capas convolucionales, seguidas de dos capas convolucionales transpuestas. Las capas convolucionales transpuestas realizan la operación contraria a las capas convolucionales. Lo que estamos haciendo con estas cuatro capas es comprimir la información de la imagen (con las dos capas convolucionales) y descomprimirla (con las dos capas convolucionales transpuestas). Hacemos esto con el objetivo de quitar el ruido a la imagen original y así hacer que la red aprenda a reconstruir la imagen.\n",
    "\n",
    "* Capa convolucional + *ReLu* + Capa convolucional + *ReLU* + *pooling* + Dropout (para reducir el sobreajuste).\n",
    "\n",
    "* Capa convolucional + *ReLu* + Capa convolucional + *ReLU* + *pooling* + Dropout.\n",
    "\n",
    "* Capa complementamente conectada + Dropout."
   ]
  },
  {
   "cell_type": "code",
   "execution_count": 16,
   "metadata": {
    "execution": {
     "iopub.execute_input": "2023-04-12T15:44:40.646517Z",
     "iopub.status.busy": "2023-04-12T15:44:40.645488Z",
     "iopub.status.idle": "2023-04-12T15:44:44.112429Z",
     "shell.execute_reply": "2023-04-12T15:44:44.111153Z",
     "shell.execute_reply.started": "2023-04-12T15:44:40.646465Z"
    }
   },
   "outputs": [],
   "source": [
    "cnn_model=Sequential()\n",
    "\n",
    "cnn_model.add(Input(shape=input_shape))\n",
    "cnn_model.add(GaussianNoise(0.17))\n",
    "cnn_model.add(Conv2D(64, kernel_size = (3,3), activation='relu'))\n",
    "cnn_model.add(Conv2D(64, kernel_size = (3,3), activation='relu'))\n",
    "cnn_model.add(Conv2DTranspose(32, kernel_size=(3,3), activation='relu'))\n",
    "cnn_model.add(Conv2DTranspose(64, kernel_size=(3,3), activation='relu'))\n",
    "cnn_model.add(BatchNormalization())\n",
    "\n",
    "cnn_model.add(Conv2D(filters=32, kernel_size = (3,3), activation='relu'))\n",
    "cnn_model.add(Conv2D(filters=32, kernel_size = (3,3), activation='relu'))\n",
    "cnn_model.add(MaxPooling2D(pool_size=(2,2)))\n",
    "cnn_model.add(BatchNormalization())\n",
    "cnn_model.add(Dropout(0.25))\n",
    "\n",
    "cnn_model.add(Conv2D(filters=64, kernel_size = (3,3), activation='relu'))\n",
    "cnn_model.add(Conv2D(filters=64, kernel_size = (3,3), activation='relu'))\n",
    "cnn_model.add(MaxPooling2D(pool_size=(2,2)))\n",
    "cnn_model.add(BatchNormalization())\n",
    "cnn_model.add(Dropout(0.25))\n",
    "    \n",
    "cnn_model.add(Flatten())\n",
    "cnn_model.add(Dense(64,activation='relu')) \n",
    "cnn_model.add(Dropout(0.20))\n",
    "    \n",
    "cnn_model.add(Dense(10,activation='softmax'))"
   ]
  },
  {
   "cell_type": "markdown",
   "metadata": {},
   "source": [
    "Vemos la estructura de la red que hemos definido, junto con la cantidad de parámetros que tiene que aprender."
   ]
  },
  {
   "cell_type": "code",
   "execution_count": 17,
   "metadata": {
    "execution": {
     "iopub.execute_input": "2023-04-12T15:44:44.115095Z",
     "iopub.status.busy": "2023-04-12T15:44:44.114691Z",
     "iopub.status.idle": "2023-04-12T15:44:44.162831Z",
     "shell.execute_reply": "2023-04-12T15:44:44.162056Z",
     "shell.execute_reply.started": "2023-04-12T15:44:44.115037Z"
    }
   },
   "outputs": [
    {
     "name": "stdout",
     "output_type": "stream",
     "text": [
      "Model: \"sequential\"\n",
      "_________________________________________________________________\n",
      " Layer (type)                Output Shape              Param #   \n",
      "=================================================================\n",
      " gaussian_noise (GaussianNoi  (None, 28, 28, 1)        0         \n",
      " se)                                                             \n",
      "                                                                 \n",
      " conv2d (Conv2D)             (None, 26, 26, 64)        640       \n",
      "                                                                 \n",
      " conv2d_1 (Conv2D)           (None, 24, 24, 64)        36928     \n",
      "                                                                 \n",
      " conv2d_transpose (Conv2DTra  (None, 26, 26, 32)       18464     \n",
      " nspose)                                                         \n",
      "                                                                 \n",
      " conv2d_transpose_1 (Conv2DT  (None, 28, 28, 64)       18496     \n",
      " ranspose)                                                       \n",
      "                                                                 \n",
      " batch_normalization (BatchN  (None, 28, 28, 64)       256       \n",
      " ormalization)                                                   \n",
      "                                                                 \n",
      " conv2d_2 (Conv2D)           (None, 26, 26, 32)        18464     \n",
      "                                                                 \n",
      " conv2d_3 (Conv2D)           (None, 24, 24, 32)        9248      \n",
      "                                                                 \n",
      " max_pooling2d (MaxPooling2D  (None, 12, 12, 32)       0         \n",
      " )                                                               \n",
      "                                                                 \n",
      " batch_normalization_1 (Batc  (None, 12, 12, 32)       128       \n",
      " hNormalization)                                                 \n",
      "                                                                 \n",
      " dropout (Dropout)           (None, 12, 12, 32)        0         \n",
      "                                                                 \n",
      " conv2d_4 (Conv2D)           (None, 10, 10, 64)        18496     \n",
      "                                                                 \n",
      " conv2d_5 (Conv2D)           (None, 8, 8, 64)          36928     \n",
      "                                                                 \n",
      " max_pooling2d_1 (MaxPooling  (None, 4, 4, 64)         0         \n",
      " 2D)                                                             \n",
      "                                                                 \n",
      " batch_normalization_2 (Batc  (None, 4, 4, 64)         256       \n",
      " hNormalization)                                                 \n",
      "                                                                 \n",
      " dropout_1 (Dropout)         (None, 4, 4, 64)          0         \n",
      "                                                                 \n",
      " flatten (Flatten)           (None, 1024)              0         \n",
      "                                                                 \n",
      " dense (Dense)               (None, 64)                65600     \n",
      "                                                                 \n",
      " dropout_2 (Dropout)         (None, 64)                0         \n",
      "                                                                 \n",
      " dense_1 (Dense)             (None, 10)                650       \n",
      "                                                                 \n",
      "=================================================================\n",
      "Total params: 224,554\n",
      "Trainable params: 224,234\n",
      "Non-trainable params: 320\n",
      "_________________________________________________________________\n"
     ]
    }
   ],
   "source": [
    "cnn_model.summary()"
   ]
  },
  {
   "cell_type": "markdown",
   "metadata": {},
   "source": [
    "Obtenemos que el modelo tiene que entrenar 223,914 parámetros. Aunque parezcan muchos, este es un modelo muy pequeño debido a que para problemas más complejos se suelen crear redes neuronales con millones de parámetros, pero para un problema tan sencillo como `MNIST` no es necesario.\n",
    "\n",
    "Finalmente compilamos el modelo. Tras esto, el modelo ya esta listo para ser entrenado."
   ]
  },
  {
   "cell_type": "code",
   "execution_count": 18,
   "metadata": {
    "execution": {
     "iopub.execute_input": "2023-04-12T15:44:44.164210Z",
     "iopub.status.busy": "2023-04-12T15:44:44.163857Z",
     "iopub.status.idle": "2023-04-12T15:44:44.197117Z",
     "shell.execute_reply": "2023-04-12T15:44:44.196104Z",
     "shell.execute_reply.started": "2023-04-12T15:44:44.164170Z"
    }
   },
   "outputs": [],
   "source": [
    "cnn_model.compile(loss=\"categorical_crossentropy\",\n",
    "              metrics=\"accuracy\",\n",
    "              optimizer=\"adam\")"
   ]
  },
  {
   "cell_type": "markdown",
   "metadata": {},
   "source": [
    "## 4.2. Transfer learning\n",
    "\n",
    "El segundo modelo será una red neuronal convolucional que utilizará la técnica de `transfer learning`. Esta técnica consiste en utilizar un modelo pre-entrenado en una tarea similar al problema que se está tratando, y utilizarlo como punto de partida para solucionar el problema, en lugar de entrenar un modelo desde 0.\n",
    "\n",
    "Por ejemplo, se puede utilizar un modelo que ha sido entrenado para reconocer imágenes y aplicar el conocimiento que ha aprendido como punto de partida para resolver un problema de clasificación de imágenes. Así, se suelen utilizar estas redes pre-entrenadas para extraer características de las imágenes de entrada.\n",
    "\n",
    "En este caso se utilizará el modelo `VGG16`, que fue entrenado para la competición de clasificación de imágenes `ImageNet`.\n",
    "\n",
    "Para empezar vamos a descargar el modelo desde `Keras`, indicando que recibirá una entrada de tamaño 75x75 en formato RGB. Además, hay que indicarle que utilice los pesos que se entrenaron con el conjunto de datos `ImageNet`.\n",
    "\n",
    "Por último es muy importante indicar que no queremos que incluya la última capa de la red (`include_top=False`), ya que esa capa es la que se encarga de realizar la clasificación final, y nosotros lo que queremos es extraer características de la imagen de entrada. "
   ]
  },
  {
   "cell_type": "code",
   "execution_count": 19,
   "metadata": {
    "execution": {
     "iopub.execute_input": "2023-04-12T16:33:33.571809Z",
     "iopub.status.busy": "2023-04-12T16:33:33.569655Z",
     "iopub.status.idle": "2023-04-12T16:33:33.922057Z",
     "shell.execute_reply": "2023-04-12T16:33:33.920846Z",
     "shell.execute_reply.started": "2023-04-12T16:33:33.571732Z"
    }
   },
   "outputs": [],
   "source": [
    "new_size = 75\n",
    "weights = \"imagenet\"\n",
    "include_top = False\n",
    "\n",
    "vgg16 = VGG16(weights=weights, include_top=include_top, input_shape=(new_size,new_size,3))"
   ]
  },
  {
   "cell_type": "markdown",
   "metadata": {},
   "source": [
    "Ahora hay que marcar las capas de este modelo como no entrenables. Solo nos interesa que extraígan características a partir de la imagen de entrada. Esto reduce considerablemente la cantidad de parámetros que tendrá que entrenar la red."
   ]
  },
  {
   "cell_type": "code",
   "execution_count": 20,
   "metadata": {
    "execution": {
     "iopub.execute_input": "2023-04-12T16:34:14.711172Z",
     "iopub.status.busy": "2023-04-12T16:34:14.710495Z",
     "iopub.status.idle": "2023-04-12T16:34:14.716961Z",
     "shell.execute_reply": "2023-04-12T16:34:14.715804Z",
     "shell.execute_reply.started": "2023-04-12T16:34:14.711133Z"
    }
   },
   "outputs": [],
   "source": [
    "for layer in vgg16.layers:\n",
    "    layer.trainable = False"
   ]
  },
  {
   "cell_type": "markdown",
   "metadata": {},
   "source": [
    "Como el modelo pre-entrenado `VGG16` necesita de entrada imágenes RGB, necesitamos convertir nuestras imágenes de entrada a este formato, por lo que vamos a definir una función que asignaremos a una capa para que haga este proceso."
   ]
  },
  {
   "cell_type": "code",
   "execution_count": 21,
   "metadata": {
    "execution": {
     "iopub.execute_input": "2023-04-12T16:25:28.772911Z",
     "iopub.status.busy": "2023-04-12T16:25:28.772019Z",
     "iopub.status.idle": "2023-04-12T16:25:28.780809Z",
     "shell.execute_reply": "2023-04-12T16:25:28.779642Z",
     "shell.execute_reply.started": "2023-04-12T16:25:28.772864Z"
    }
   },
   "outputs": [],
   "source": [
    "def gray_to_rgb(x):\n",
    "    return tf.image.grayscale_to_rgb(x)"
   ]
  },
  {
   "cell_type": "markdown",
   "metadata": {},
   "source": [
    "La estructura de la red neuronal convolucional contará con la siguiente secuencia de capas:\n",
    "\n",
    "* Capa `Input` que nos permite definir la forma de los datos de entrada.\n",
    "\n",
    "* Capa `Resizing` que aumente el tamaño de los datos de entrada a 75x75.\n",
    "\n",
    "* Capa `Lambda` que convierta los datos de entrada a formato RGB.\n",
    "\n",
    "* Modelo `VGG16` que nos permita extraer características.\n",
    "\n",
    "* Capa complementamente conectada + Dropout."
   ]
  },
  {
   "cell_type": "code",
   "execution_count": 22,
   "metadata": {
    "execution": {
     "iopub.execute_input": "2023-04-12T16:50:35.374065Z",
     "iopub.status.busy": "2023-04-12T16:50:35.372905Z",
     "iopub.status.idle": "2023-04-12T16:50:35.517000Z",
     "shell.execute_reply": "2023-04-12T16:50:35.516176Z",
     "shell.execute_reply.started": "2023-04-12T16:50:35.374014Z"
    }
   },
   "outputs": [],
   "source": [
    "tl_model=Sequential()\n",
    "tl_model.add(Input(shape=input_shape))\n",
    "tl_model.add(Resizing(new_size, new_size))\n",
    "tl_model.add(Lambda(gray_to_rgb))\n",
    "tl_model.add(Resizing(new_size, new_size))\n",
    "\n",
    "tl_model.add(vgg16)\n",
    "    \n",
    "tl_model.add(Flatten())\n",
    "tl_model.add(Dense(128,activation=\"relu\")) \n",
    "tl_model.add(Dropout(0.2))\n",
    "    \n",
    "tl_model.add(Dense(10,activation=\"softmax\"))"
   ]
  },
  {
   "cell_type": "markdown",
   "metadata": {},
   "source": [
    "Vemos la estructura de la red que hemos definido, junto con la cantidad de parámetros que tiene que aprender."
   ]
  },
  {
   "cell_type": "code",
   "execution_count": 23,
   "metadata": {},
   "outputs": [
    {
     "name": "stdout",
     "output_type": "stream",
     "text": [
      "Model: \"sequential_1\"\n",
      "_________________________________________________________________\n",
      " Layer (type)                Output Shape              Param #   \n",
      "=================================================================\n",
      " resizing (Resizing)         (None, 75, 75, 1)         0         \n",
      "                                                                 \n",
      " lambda (Lambda)             (None, 75, 75, 3)         0         \n",
      "                                                                 \n",
      " resizing_1 (Resizing)       (None, 75, 75, 3)         0         \n",
      "                                                                 \n",
      " vgg16 (Functional)          (None, 2, 2, 512)         14714688  \n",
      "                                                                 \n",
      " flatten_1 (Flatten)         (None, 2048)              0         \n",
      "                                                                 \n",
      " dense_2 (Dense)             (None, 128)               262272    \n",
      "                                                                 \n",
      " dropout_3 (Dropout)         (None, 128)               0         \n",
      "                                                                 \n",
      " dense_3 (Dense)             (None, 10)                1290      \n",
      "                                                                 \n",
      "=================================================================\n",
      "Total params: 14,978,250\n",
      "Trainable params: 263,562\n",
      "Non-trainable params: 14,714,688\n",
      "_________________________________________________________________\n"
     ]
    }
   ],
   "source": [
    "tl_model.summary()"
   ]
  },
  {
   "cell_type": "markdown",
   "metadata": {},
   "source": [
    "Obtenemos que el modelo tiene que entrenar 263,562 parámetros. Podemos observar que esta es una pequeña cantidad de parámetros del total que tiene la red (casi 15 millones). Esto es gracias a que todas las capas del modelo `VGG16` no hay que entrenarla, pero si que nos proporciona un conocimiento útil para resolver este problema.\n",
    "\n",
    "Finalmente compilamos el modelo. Tras esto, el modelo ya esta listo para ser entrenado."
   ]
  },
  {
   "cell_type": "code",
   "execution_count": 24,
   "metadata": {
    "execution": {
     "iopub.execute_input": "2023-04-12T16:50:37.323465Z",
     "iopub.status.busy": "2023-04-12T16:50:37.322527Z",
     "iopub.status.idle": "2023-04-12T16:50:37.335792Z",
     "shell.execute_reply": "2023-04-12T16:50:37.334799Z",
     "shell.execute_reply.started": "2023-04-12T16:50:37.323422Z"
    }
   },
   "outputs": [],
   "source": [
    "tl_model.compile(loss=\"categorical_crossentropy\", optimizer=\"adam\", metrics=[\"accuracy\"])"
   ]
  },
  {
   "cell_type": "markdown",
   "metadata": {},
   "source": [
    "# 5. Entrenamiento y validación de los modelos\n",
    "\n",
    "Ahora que se han definido los modelos podemos entrenarlos. Primero definiremos la cantidad de épocas que utilizaremos para entrenar cada modelo y el `learning rate`."
   ]
  },
  {
   "cell_type": "code",
   "execution_count": 25,
   "metadata": {
    "execution": {
     "iopub.execute_input": "2023-04-12T15:45:29.320145Z",
     "iopub.status.busy": "2023-04-12T15:45:29.318972Z",
     "iopub.status.idle": "2023-04-12T15:45:29.325511Z",
     "shell.execute_reply": "2023-04-12T15:45:29.324228Z",
     "shell.execute_reply.started": "2023-04-12T15:45:29.320095Z"
    }
   },
   "outputs": [],
   "source": [
    "epochs = 100\n",
    "lr = 1e-3"
   ]
  },
  {
   "cell_type": "markdown",
   "metadata": {},
   "source": [
    "Para el entrenamiento vamos a utilizar dos `callbacks` de los que nos proporciona `keras`:\n",
    "\n",
    "* `EarlyStopping`: permite monitorizar el entrenamiento y, si no se produce mejora entre las distintas épocas, se para el entrenamiento para reducir el tiempo del entrenamiento en caso de que no se obtengan mejoras. En este caso se ha indicado que se pare el entrenamiento si no se ha mejorado en 5 épocas. Se le indica que el valor que tiene que monitorizar para para ver si se mejora es `loss` en los datos de validación (`val_loss`). Es muy importante también indicar que si se para el entrenamiento porque no se mejoran los resultados, restaure los pesos que se tenían en la mejor época.\n",
    "\n",
    "* `LearningRateScheduler`: permite modificar el ratio de aprendizaje durante el entrenamiento del modelo. Al iniciar un epoch, se actualiza el ratio de aprendizaje con el epoch y tasa de aprendizaje actual y se lo aplica al optimizador para actualizarlo.\n",
    "\n",
    "***Nota:*** el entrenamiento no debería de durar las 100 épocas que hemos indicado anteriormente porque gracias al `EarlyStopping` parará antes cuando el modelo deje de mejorar los resultados de los datos de validación."
   ]
  },
  {
   "cell_type": "code",
   "execution_count": 26,
   "metadata": {
    "execution": {
     "iopub.execute_input": "2023-04-12T15:45:31.466686Z",
     "iopub.status.busy": "2023-04-12T15:45:31.466317Z",
     "iopub.status.idle": "2023-04-12T15:45:31.472089Z",
     "shell.execute_reply": "2023-04-12T15:45:31.470986Z",
     "shell.execute_reply.started": "2023-04-12T15:45:31.466655Z"
    }
   },
   "outputs": [],
   "source": [
    "from keras.callbacks import EarlyStopping, LearningRateScheduler\n",
    "\n",
    "early_stopping = EarlyStopping(monitor='val_loss', restore_best_weights=True, patience=5)\n",
    "lrs = LearningRateScheduler(lambda x: lr * 0.95 ** x)"
   ]
  },
  {
   "cell_type": "markdown",
   "metadata": {},
   "source": [
    "Se realiza el entrenamiento de la red neuronal convolucional definida."
   ]
  },
  {
   "cell_type": "code",
   "execution_count": 27,
   "metadata": {
    "execution": {
     "iopub.execute_input": "2023-04-11T17:32:15.056627Z",
     "iopub.status.busy": "2023-04-11T17:32:15.056294Z",
     "iopub.status.idle": "2023-04-11T17:35:37.220914Z",
     "shell.execute_reply": "2023-04-11T17:35:37.219828Z",
     "shell.execute_reply.started": "2023-04-11T17:32:15.056594Z"
    },
    "scrolled": false
   },
   "outputs": [
    {
     "name": "stdout",
     "output_type": "stream",
     "text": [
      "Epoch 1/100\n",
      "525/525 [==============================] - 18s 28ms/step - loss: 0.5056 - accuracy: 0.8400 - val_loss: 0.1015 - val_accuracy: 0.9683 - lr: 0.0010\n",
      "Epoch 2/100\n",
      "525/525 [==============================] - 14s 27ms/step - loss: 0.1619 - accuracy: 0.9520 - val_loss: 0.0470 - val_accuracy: 0.9858 - lr: 9.5000e-04\n",
      "Epoch 3/100\n",
      "525/525 [==============================] - 14s 27ms/step - loss: 0.1198 - accuracy: 0.9645 - val_loss: 0.0401 - val_accuracy: 0.9875 - lr: 9.0250e-04\n",
      "Epoch 4/100\n",
      "525/525 [==============================] - 14s 27ms/step - loss: 0.1045 - accuracy: 0.9685 - val_loss: 0.0399 - val_accuracy: 0.9885 - lr: 8.5737e-04\n",
      "Epoch 5/100\n",
      "525/525 [==============================] - 14s 27ms/step - loss: 0.0947 - accuracy: 0.9717 - val_loss: 0.0395 - val_accuracy: 0.9889 - lr: 8.1451e-04\n",
      "Epoch 6/100\n",
      "525/525 [==============================] - 14s 27ms/step - loss: 0.0810 - accuracy: 0.9756 - val_loss: 0.0316 - val_accuracy: 0.9905 - lr: 7.7378e-04\n",
      "Epoch 7/100\n",
      "525/525 [==============================] - 14s 27ms/step - loss: 0.0733 - accuracy: 0.9782 - val_loss: 0.0285 - val_accuracy: 0.9908 - lr: 7.3509e-04\n",
      "Epoch 8/100\n",
      "525/525 [==============================] - 14s 27ms/step - loss: 0.0723 - accuracy: 0.9783 - val_loss: 0.0282 - val_accuracy: 0.9924 - lr: 6.9834e-04\n",
      "Epoch 9/100\n",
      "525/525 [==============================] - 14s 27ms/step - loss: 0.0626 - accuracy: 0.9807 - val_loss: 0.0266 - val_accuracy: 0.9919 - lr: 6.6342e-04\n",
      "Epoch 10/100\n",
      "525/525 [==============================] - 14s 27ms/step - loss: 0.0617 - accuracy: 0.9815 - val_loss: 0.0266 - val_accuracy: 0.9932 - lr: 6.3025e-04\n",
      "Epoch 11/100\n",
      "525/525 [==============================] - 14s 27ms/step - loss: 0.0582 - accuracy: 0.9824 - val_loss: 0.0219 - val_accuracy: 0.9940 - lr: 5.9874e-04\n",
      "Epoch 12/100\n",
      "525/525 [==============================] - 14s 27ms/step - loss: 0.0541 - accuracy: 0.9843 - val_loss: 0.0220 - val_accuracy: 0.9937 - lr: 5.6880e-04\n",
      "Epoch 13/100\n",
      "525/525 [==============================] - 14s 27ms/step - loss: 0.0535 - accuracy: 0.9840 - val_loss: 0.0231 - val_accuracy: 0.9925 - lr: 5.4036e-04\n",
      "Epoch 14/100\n",
      "525/525 [==============================] - 14s 27ms/step - loss: 0.0490 - accuracy: 0.9857 - val_loss: 0.0218 - val_accuracy: 0.9949 - lr: 5.1334e-04\n",
      "Epoch 15/100\n",
      "525/525 [==============================] - 14s 27ms/step - loss: 0.0480 - accuracy: 0.9851 - val_loss: 0.0247 - val_accuracy: 0.9932 - lr: 4.8767e-04\n",
      "Epoch 16/100\n",
      "525/525 [==============================] - 14s 27ms/step - loss: 0.0466 - accuracy: 0.9857 - val_loss: 0.0204 - val_accuracy: 0.9944 - lr: 4.6329e-04\n",
      "Epoch 17/100\n",
      "525/525 [==============================] - 14s 27ms/step - loss: 0.0437 - accuracy: 0.9865 - val_loss: 0.0205 - val_accuracy: 0.9936 - lr: 4.4013e-04\n",
      "Epoch 18/100\n",
      "525/525 [==============================] - 14s 27ms/step - loss: 0.0426 - accuracy: 0.9870 - val_loss: 0.0218 - val_accuracy: 0.9933 - lr: 4.1812e-04\n",
      "Epoch 19/100\n",
      "525/525 [==============================] - 14s 27ms/step - loss: 0.0389 - accuracy: 0.9885 - val_loss: 0.0160 - val_accuracy: 0.9954 - lr: 3.9721e-04\n",
      "Epoch 20/100\n",
      "525/525 [==============================] - 14s 27ms/step - loss: 0.0391 - accuracy: 0.9884 - val_loss: 0.0172 - val_accuracy: 0.9946 - lr: 3.7735e-04\n",
      "Epoch 21/100\n",
      "525/525 [==============================] - 14s 27ms/step - loss: 0.0332 - accuracy: 0.9893 - val_loss: 0.0180 - val_accuracy: 0.9951 - lr: 3.5849e-04\n",
      "Epoch 22/100\n",
      "525/525 [==============================] - 14s 27ms/step - loss: 0.0361 - accuracy: 0.9888 - val_loss: 0.0182 - val_accuracy: 0.9950 - lr: 3.4056e-04\n",
      "Epoch 23/100\n",
      "525/525 [==============================] - 14s 27ms/step - loss: 0.0364 - accuracy: 0.9890 - val_loss: 0.0174 - val_accuracy: 0.9946 - lr: 3.2353e-04\n",
      "Epoch 24/100\n",
      "525/525 [==============================] - 14s 27ms/step - loss: 0.0334 - accuracy: 0.9896 - val_loss: 0.0183 - val_accuracy: 0.9948 - lr: 3.0736e-04\n"
     ]
    }
   ],
   "source": [
    "convolutional_history = cnn_model.fit(train_iterator,\n",
    "                                      epochs=epochs,\n",
    "                                      callbacks = [early_stopping,lrs],\n",
    "                                      validation_data=val_iterator)"
   ]
  },
  {
   "cell_type": "markdown",
   "metadata": {},
   "source": [
    "Se realiza el entrenamiento del modelo que utiliza transfer learning."
   ]
  },
  {
   "cell_type": "code",
   "execution_count": 28,
   "metadata": {
    "execution": {
     "iopub.execute_input": "2023-04-12T16:50:40.153325Z",
     "iopub.status.busy": "2023-04-12T16:50:40.152175Z"
    }
   },
   "outputs": [
    {
     "name": "stdout",
     "output_type": "stream",
     "text": [
      "Epoch 1/100\n",
      "525/525 [==============================] - 57s 105ms/step - loss: 0.3343 - accuracy: 0.9038 - val_loss: 0.1051 - val_accuracy: 0.9682 - lr: 0.0010\n",
      "Epoch 2/100\n",
      "525/525 [==============================] - 54s 104ms/step - loss: 0.1352 - accuracy: 0.9590 - val_loss: 0.0853 - val_accuracy: 0.9745 - lr: 9.5000e-04\n",
      "Epoch 3/100\n",
      "525/525 [==============================] - 54s 103ms/step - loss: 0.1036 - accuracy: 0.9685 - val_loss: 0.0726 - val_accuracy: 0.9779 - lr: 9.0250e-04\n",
      "Epoch 4/100\n",
      "525/525 [==============================] - 54s 103ms/step - loss: 0.0956 - accuracy: 0.9709 - val_loss: 0.0741 - val_accuracy: 0.9780 - lr: 8.5737e-04\n",
      "Epoch 5/100\n",
      "525/525 [==============================] - 54s 104ms/step - loss: 0.0851 - accuracy: 0.9731 - val_loss: 0.0572 - val_accuracy: 0.9814 - lr: 8.1451e-04\n",
      "Epoch 6/100\n",
      "525/525 [==============================] - 55s 104ms/step - loss: 0.0764 - accuracy: 0.9760 - val_loss: 0.0589 - val_accuracy: 0.9807 - lr: 7.7378e-04\n",
      "Epoch 7/100\n",
      "525/525 [==============================] - 54s 104ms/step - loss: 0.0732 - accuracy: 0.9768 - val_loss: 0.0564 - val_accuracy: 0.9812 - lr: 7.3509e-04\n",
      "Epoch 8/100\n",
      "525/525 [==============================] - 54s 104ms/step - loss: 0.0688 - accuracy: 0.9780 - val_loss: 0.0439 - val_accuracy: 0.9858 - lr: 6.9834e-04\n",
      "Epoch 9/100\n",
      "525/525 [==============================] - 54s 103ms/step - loss: 0.0623 - accuracy: 0.9792 - val_loss: 0.0562 - val_accuracy: 0.9825 - lr: 6.6342e-04\n",
      "Epoch 10/100\n",
      "525/525 [==============================] - 54s 103ms/step - loss: 0.0605 - accuracy: 0.9807 - val_loss: 0.0469 - val_accuracy: 0.9842 - lr: 6.3025e-04\n",
      "Epoch 11/100\n",
      "525/525 [==============================] - 54s 103ms/step - loss: 0.0569 - accuracy: 0.9813 - val_loss: 0.0478 - val_accuracy: 0.9838 - lr: 5.9874e-04\n",
      "Epoch 12/100\n",
      "525/525 [==============================] - 54s 103ms/step - loss: 0.0561 - accuracy: 0.9822 - val_loss: 0.0429 - val_accuracy: 0.9858 - lr: 5.6880e-04\n",
      "Epoch 13/100\n",
      "525/525 [==============================] - 54s 103ms/step - loss: 0.0555 - accuracy: 0.9821 - val_loss: 0.0491 - val_accuracy: 0.9837 - lr: 5.4036e-04\n",
      "Epoch 14/100\n",
      "525/525 [==============================] - 54s 103ms/step - loss: 0.0516 - accuracy: 0.9835 - val_loss: 0.0489 - val_accuracy: 0.9848 - lr: 5.1334e-04\n",
      "Epoch 15/100\n",
      "525/525 [==============================] - 54s 103ms/step - loss: 0.0489 - accuracy: 0.9844 - val_loss: 0.0512 - val_accuracy: 0.9832 - lr: 4.8767e-04\n",
      "Epoch 16/100\n",
      "525/525 [==============================] - 54s 104ms/step - loss: 0.0469 - accuracy: 0.9850 - val_loss: 0.0514 - val_accuracy: 0.9840 - lr: 4.6329e-04\n",
      "Epoch 17/100\n",
      "525/525 [==============================] - 54s 104ms/step - loss: 0.0467 - accuracy: 0.9856 - val_loss: 0.0410 - val_accuracy: 0.9858 - lr: 4.4013e-04\n",
      "Epoch 18/100\n",
      "525/525 [==============================] - 54s 104ms/step - loss: 0.0436 - accuracy: 0.9852 - val_loss: 0.0427 - val_accuracy: 0.9864 - lr: 4.1812e-04\n",
      "Epoch 19/100\n",
      "525/525 [==============================] - 54s 103ms/step - loss: 0.0410 - accuracy: 0.9874 - val_loss: 0.0443 - val_accuracy: 0.9863 - lr: 3.9721e-04\n",
      "Epoch 20/100\n",
      "525/525 [==============================] - 54s 103ms/step - loss: 0.0420 - accuracy: 0.9865 - val_loss: 0.0418 - val_accuracy: 0.9871 - lr: 3.7735e-04\n",
      "Epoch 21/100\n",
      "525/525 [==============================] - 54s 103ms/step - loss: 0.0381 - accuracy: 0.9875 - val_loss: 0.0404 - val_accuracy: 0.9870 - lr: 3.5849e-04\n",
      "Epoch 22/100\n",
      "525/525 [==============================] - 54s 103ms/step - loss: 0.0397 - accuracy: 0.9871 - val_loss: 0.0462 - val_accuracy: 0.9846 - lr: 3.4056e-04\n",
      "Epoch 23/100\n",
      "525/525 [==============================] - 54s 103ms/step - loss: 0.0375 - accuracy: 0.9877 - val_loss: 0.0401 - val_accuracy: 0.9864 - lr: 3.2353e-04\n",
      "Epoch 24/100\n",
      "525/525 [==============================] - 54s 103ms/step - loss: 0.0371 - accuracy: 0.9885 - val_loss: 0.0416 - val_accuracy: 0.9856 - lr: 3.0736e-04\n",
      "Epoch 25/100\n",
      "525/525 [==============================] - 54s 103ms/step - loss: 0.0368 - accuracy: 0.9879 - val_loss: 0.0380 - val_accuracy: 0.9873 - lr: 2.9199e-04\n",
      "Epoch 26/100\n",
      "525/525 [==============================] - 54s 103ms/step - loss: 0.0342 - accuracy: 0.9889 - val_loss: 0.0433 - val_accuracy: 0.9867 - lr: 2.7739e-04\n",
      "Epoch 27/100\n",
      "525/525 [==============================] - 54s 103ms/step - loss: 0.0345 - accuracy: 0.9883 - val_loss: 0.0344 - val_accuracy: 0.9883 - lr: 2.6352e-04\n",
      "Epoch 28/100\n",
      "525/525 [==============================] - 54s 103ms/step - loss: 0.0341 - accuracy: 0.9893 - val_loss: 0.0369 - val_accuracy: 0.9882 - lr: 2.5034e-04\n",
      "Epoch 29/100\n",
      "525/525 [==============================] - 54s 103ms/step - loss: 0.0345 - accuracy: 0.9886 - val_loss: 0.0395 - val_accuracy: 0.9865 - lr: 2.3783e-04\n",
      "Epoch 30/100\n",
      "525/525 [==============================] - 54s 103ms/step - loss: 0.0325 - accuracy: 0.9893 - val_loss: 0.0383 - val_accuracy: 0.9873 - lr: 2.2594e-04\n",
      "Epoch 31/100\n",
      "525/525 [==============================] - 54s 103ms/step - loss: 0.0317 - accuracy: 0.9894 - val_loss: 0.0420 - val_accuracy: 0.9871 - lr: 2.1464e-04\n",
      "Epoch 32/100\n",
      "525/525 [==============================] - 54s 103ms/step - loss: 0.0299 - accuracy: 0.9900 - val_loss: 0.0372 - val_accuracy: 0.9883 - lr: 2.0391e-04\n"
     ]
    }
   ],
   "source": [
    "tl_history = tl_model.fit(train_iterator,\n",
    "                          epochs=epochs,\n",
    "                          callbacks = [early_stopping,lrs],\n",
    "                          validation_data=val_iterator)"
   ]
  },
  {
   "cell_type": "markdown",
   "metadata": {},
   "source": [
    "Para poder visualizar de forma gráfica la evolución del entrenamiento a lo largo de las épocas, se ha definido una función que recibe como parámetro el historial devuelto por el entrenamiento (en `keras` lo devuelve el método `fit`)."
   ]
  },
  {
   "cell_type": "code",
   "execution_count": 29,
   "metadata": {
    "execution": {
     "iopub.execute_input": "2023-04-11T17:35:37.225543Z",
     "iopub.status.busy": "2023-04-11T17:35:37.224558Z",
     "iopub.status.idle": "2023-04-11T17:35:37.235239Z",
     "shell.execute_reply": "2023-04-11T17:35:37.233982Z",
     "shell.execute_reply.started": "2023-04-11T17:35:37.225483Z"
    }
   },
   "outputs": [],
   "source": [
    "def plot_history(history):\n",
    "    \n",
    "    train_loss = history.history[\"loss\"]\n",
    "    train_accuracy = history.history[\"accuracy\"]\n",
    "    validation_loss = history.history[\"val_loss\"]\n",
    "    validation_accuracy = history.history[\"val_accuracy\"]\n",
    "\n",
    "    (fig, ax) = plt.subplots(1, 2)\n",
    "\n",
    "    fig_size = (10, 3)\n",
    "    fig.set_size_inches(fig_size)\n",
    "\n",
    "    ax[0].set_title(\"Model loss\")\n",
    "    ax[1].set_title(\"Model accuracy\")\n",
    "\n",
    "    ax[0].set_xlabel(\"Epoch\")\n",
    "    ax[0].set_ylabel(\"Loss\")\n",
    "    ax[1].set_xlabel(\"Epoch\")\n",
    "    ax[1].set_ylabel(\"Accuracy\")\n",
    "\n",
    "    ax[0].plot(train_loss)\n",
    "    ax[0].plot(validation_loss)\n",
    "    ax[1].plot(train_accuracy)\n",
    "    ax[1].plot(validation_accuracy)\n",
    "\n",
    "    legend = [\"Train\", \"Validation\"]\n",
    "    ax[0].legend(legend, loc=\"upper right\")\n",
    "    ax[1].legend(legend, loc=\"upper right\")"
   ]
  },
  {
   "cell_type": "code",
   "execution_count": 30,
   "metadata": {
    "execution": {
     "iopub.execute_input": "2023-04-11T17:35:37.240954Z",
     "iopub.status.busy": "2023-04-11T17:35:37.239844Z",
     "iopub.status.idle": "2023-04-11T17:35:37.595644Z",
     "shell.execute_reply": "2023-04-11T17:35:37.594561Z",
     "shell.execute_reply.started": "2023-04-11T17:35:37.240912Z"
    }
   },
   "outputs": [
    {
     "data": {
      "image/png": "[encoded data removed]",
      "text/plain": [
       "<Figure size 720x216 with 2 Axes>"
      ]
     },
     "metadata": {
      "needs_background": "light"
     },
     "output_type": "display_data"
    }
   ],
   "source": [
    "plot_history(convolutional_history)"
   ]
  },
  {
   "cell_type": "code",
   "execution_count": 31,
   "metadata": {
    "execution": {
     "iopub.execute_input": "2023-04-11T17:35:37.599401Z",
     "iopub.status.busy": "2023-04-11T17:35:37.599066Z",
     "iopub.status.idle": "2023-04-11T17:35:37.980648Z",
     "shell.execute_reply": "2023-04-11T17:35:37.979478Z",
     "shell.execute_reply.started": "2023-04-11T17:35:37.599370Z"
    }
   },
   "outputs": [
    {
     "data": {
      "image/png": "[encoded data removed]",
      "text/plain": [
       "<Figure size 720x216 with 2 Axes>"
      ]
     },
     "metadata": {
      "needs_background": "light"
     },
     "output_type": "display_data"
    }
   ],
   "source": [
    "plot_history(tl_history)"
   ]
  },
  {
   "cell_type": "markdown",
   "metadata": {},
   "source": [
    "De los dos gráficos anteriores se puede observar que ambos modelos obtienen muy buenos resultados (casi el 100% de `accuracy`). Además, no cuentan con sobreajuste ya que el `accuracy` para los datos de entrenamiento y de validación es muy similar. Hay que recordar que se está trabajando con un problema muy sencillo de visión por computador, por lo que es fácil obtener tan buenos resultados.\n",
    "\n",
    "De los dos modelos entrenados, el primer modelo tarda menos tiempo en ser entrenado debido a que es un modelo más pequeño y con menos parámetros. También es el que mejores resultados obtiene. Esto es debido a que se han entrenado todas las capas de ese modelo, permitiendo adaptarse a la resolución de este problema, mientras que en la segunda red solo se ha entrenado la capa completamente conectada.\n",
    "\n",
    "Por lo general un modelo entrenado desde 0 funcionará mejor que un modelo que aplique `transfer learning`. Aunque en problemas muy grandes y complejos diseñar un modelo completo puede conllevar un gran coste computacional y de tiempo (días, semanas...), por lo que es buena idea aplicar `transfer learning` para reducir este coste si es capaz de obtener buenos resultados igualmente."
   ]
  },
  {
   "cell_type": "markdown",
   "metadata": {},
   "source": [
    "# 6. Ensemble\n",
    "\n",
    "Ahora se va a intentar mejorar el `accuracy` construyendo un ensemble formado por la unión de los dos modelos que tenemos ya entrenados. La idea es generar un nuevo modelo que utilice a los dos modelos anteriores para obtener dos predicciones y realice la media de sus predicciones.\n",
    "\n",
    "***Nota***: no es necesario entrenar este modelo porque utiliza a dos modelos ya entrenados para realizar las predicciones."
   ]
  },
  {
   "cell_type": "code",
   "execution_count": 32,
   "metadata": {
    "execution": {
     "iopub.execute_input": "2023-04-11T17:35:37.982570Z",
     "iopub.status.busy": "2023-04-11T17:35:37.982136Z",
     "iopub.status.idle": "2023-04-11T17:35:38.011783Z",
     "shell.execute_reply": "2023-04-11T17:35:38.010068Z",
     "shell.execute_reply.started": "2023-04-11T17:35:37.982527Z"
    }
   },
   "outputs": [],
   "source": [
    "models = [cnn_model, tl_model]\n",
    "model_input = Input(shape=input_shape)\n",
    "model_outputs = [model(model_input) for model in models]\n",
    "ensemble_output = Average()(model_outputs)\n",
    "ensemble_model = Model(inputs=model_input, outputs=ensemble_output)"
   ]
  },
  {
   "cell_type": "markdown",
   "metadata": {},
   "source": [
    "Vemos la estructura del ensemble que hemos definido."
   ]
  },
  {
   "cell_type": "code",
   "execution_count": 33,
   "metadata": {
    "execution": {
     "iopub.status.busy": "2023-04-11T17:35:38.012973Z",
     "iopub.status.idle": "2023-04-11T17:35:38.013486Z",
     "shell.execute_reply": "2023-04-11T17:35:38.013234Z",
     "shell.execute_reply.started": "2023-04-11T17:35:38.013208Z"
    }
   },
   "outputs": [
    {
     "name": "stdout",
     "output_type": "stream",
     "text": [
      "Model: \"model\"\n",
      "__________________________________________________________________________________________________\n",
      " Layer (type)                   Output Shape         Param #     Connected to                     \n",
      "==================================================================================================\n",
      " input_4 (InputLayer)           [(None, 28, 28, 1)]  0           []                               \n",
      "                                                                                                  \n",
      " sequential (Sequential)        (None, 10)           224554      ['input_4[0][0]']                \n",
      "                                                                                                  \n",
      " sequential_1 (Sequential)      (None, 10)           14978250    ['input_4[0][0]']                \n",
      "                                                                                                  \n",
      " average (Average)              (None, 10)           0           ['sequential[0][0]',             \n",
      "                                                                  'sequential_1[0][0]']           \n",
      "                                                                                                  \n",
      "==================================================================================================\n",
      "Total params: 15,202,804\n",
      "Trainable params: 487,796\n",
      "Non-trainable params: 14,715,008\n",
      "__________________________________________________________________________________________________\n"
     ]
    }
   ],
   "source": [
    "ensemble_model.summary()"
   ]
  },
  {
   "cell_type": "markdown",
   "metadata": {},
   "source": [
    "Vemos que la cantidad de parámetros que tiene es la suma de los dos modelos anteriores. Una opción sería reentrenar este modelo para que estos parámetros se adaptasen a la nueva estructura, aunque al utilizar dos modelos ya entrenados no es obligatorio y nos podemos ahorra el tiempo del nuevo entrenamiento ya que se pueden obtener muy buenos resultados sin reentrenar, y quizá, al reentrenarlo, no logremos mejorar los resultados."
   ]
  },
  {
   "cell_type": "markdown",
   "metadata": {},
   "source": [
    "Se compila el ensemble."
   ]
  },
  {
   "cell_type": "code",
   "execution_count": 34,
   "metadata": {
    "execution": {
     "iopub.status.busy": "2023-04-11T17:35:38.018159Z",
     "iopub.status.idle": "2023-04-11T17:35:38.019433Z",
     "shell.execute_reply": "2023-04-11T17:35:38.019199Z",
     "shell.execute_reply.started": "2023-04-11T17:35:38.019171Z"
    }
   },
   "outputs": [],
   "source": [
    "ensemble_model.compile(loss='categorical_crossentropy', optimizer='adam', metrics=['accuracy'])"
   ]
  },
  {
   "cell_type": "markdown",
   "metadata": {},
   "source": [
    "Se va a evaluar el ensemble utilizando los datos de validación. Además, se va a comparar con los dos modelos anteriores."
   ]
  },
  {
   "cell_type": "code",
   "execution_count": 35,
   "metadata": {
    "execution": {
     "iopub.status.busy": "2023-04-11T17:35:38.020806Z",
     "iopub.status.idle": "2023-04-11T17:35:38.021748Z",
     "shell.execute_reply": "2023-04-11T17:35:38.021481Z",
     "shell.execute_reply.started": "2023-04-11T17:35:38.021452Z"
    }
   },
   "outputs": [
    {
     "name": "stdout",
     "output_type": "stream",
     "text": [
      "CNN: [0.01598714478313923, 0.9953571557998657]\n",
      "VGG16: [0.03442300483584404, 0.9883333444595337]\n",
      "Ensemble: [0.019472824409604073, 0.9957143068313599]\n"
     ]
    }
   ],
   "source": [
    "print('CNN: ' + str(cnn_model.evaluate(val_iterator, verbose=0)))\n",
    "print('VGG16: ' + str(tl_model.evaluate(val_iterator, verbose=0)))\n",
    "print('Ensemble: ' + str(ensemble_model.evaluate(val_iterator, verbose=0)))"
   ]
  },
  {
   "cell_type": "markdown",
   "metadata": {},
   "source": [
    "Se obtiene que el ensemble obtiene unos resultados un poco (muy poco) mejores al modelo CNN. Si se hubiera obtenido un segundo modelo un poco mejor, el ensemble también obtendría mejores resultados."
   ]
  },
  {
   "cell_type": "markdown",
   "metadata": {},
   "source": [
    "# 7. Guardar los modelos\n",
    "\n",
    "Es una buena práctica guardar los modelos ya entrenados para poder volver a utilizarlos en otras sesiones."
   ]
  },
  {
   "cell_type": "code",
   "execution_count": 36,
   "metadata": {},
   "outputs": [],
   "source": [
    "path_models = 'models/'\n",
    "cnn_path = path_models + 'cnn.h5'\n",
    "tl_path = path_models + 'tl.h5'\n",
    "ensemble_path = path_models + 'ensemble.h5'"
   ]
  },
  {
   "cell_type": "code",
   "execution_count": 37,
   "metadata": {},
   "outputs": [],
   "source": [
    "cnn_model.save(cnn_path)\n",
    "tl_model.save(tl_path)\n",
    "ensemble_model.save(ensemble_path)"
   ]
  },
  {
   "cell_type": "markdown",
   "metadata": {},
   "source": [
    "Se pueden volver a cargar los modelos con la siguiente instrucción."
   ]
  },
  {
   "cell_type": "code",
   "execution_count": 38,
   "metadata": {},
   "outputs": [],
   "source": [
    "loaded_model = load_model(ensemble_path)"
   ]
  },
  {
   "cell_type": "markdown",
   "metadata": {},
   "source": [
    "# 8. Predicción conjunto de test\n",
    "\n",
    "Para acabar con esta libreta se va a utilizar el ensemble (que es el que mejores resultados obtiene) para predecir el conjunto de test.\n",
    "\n",
    "Para ello primero se leerá el archivo."
   ]
  },
  {
   "cell_type": "code",
   "execution_count": 39,
   "metadata": {
    "execution": {
     "iopub.execute_input": "2023-04-08T10:08:54.267885Z",
     "iopub.status.busy": "2023-04-08T10:08:54.267486Z",
     "iopub.status.idle": "2023-04-08T10:08:55.369950Z",
     "shell.execute_reply": "2023-04-08T10:08:55.368800Z",
     "shell.execute_reply.started": "2023-04-08T10:08:54.267847Z"
    }
   },
   "outputs": [
    {
     "data": {
      "text/html": [
       "<div>\n",
       "<style scoped>\n",
       "    .dataframe tbody tr th:only-of-type {\n",
       "        vertical-align: middle;\n",
       "    }\n",
       "\n",
       "    .dataframe tbody tr th {\n",
       "        vertical-align: top;\n",
       "    }\n",
       "\n",
       "    .dataframe thead th {\n",
       "        text-align: right;\n",
       "    }\n",
       "</style>\n",
       "<table border=\"1\" class=\"dataframe\">\n",
       "  <thead>\n",
       "    <tr style=\"text-align: right;\">\n",
       "      <th></th>\n",
       "      <th>pixel0</th>\n",
       "      <th>pixel1</th>\n",
       "      <th>pixel2</th>\n",
       "      <th>pixel3</th>\n",
       "      <th>pixel4</th>\n",
       "      <th>pixel5</th>\n",
       "      <th>pixel6</th>\n",
       "      <th>pixel7</th>\n",
       "      <th>pixel8</th>\n",
       "      <th>pixel9</th>\n",
       "      <th>...</th>\n",
       "      <th>pixel774</th>\n",
       "      <th>pixel775</th>\n",
       "      <th>pixel776</th>\n",
       "      <th>pixel777</th>\n",
       "      <th>pixel778</th>\n",
       "      <th>pixel779</th>\n",
       "      <th>pixel780</th>\n",
       "      <th>pixel781</th>\n",
       "      <th>pixel782</th>\n",
       "      <th>pixel783</th>\n",
       "    </tr>\n",
       "  </thead>\n",
       "  <tbody>\n",
       "    <tr>\n",
       "      <th>11119</th>\n",
       "      <td>0</td>\n",
       "      <td>0</td>\n",
       "      <td>0</td>\n",
       "      <td>0</td>\n",
       "      <td>0</td>\n",
       "      <td>0</td>\n",
       "      <td>0</td>\n",
       "      <td>0</td>\n",
       "      <td>0</td>\n",
       "      <td>0</td>\n",
       "      <td>...</td>\n",
       "      <td>0</td>\n",
       "      <td>0</td>\n",
       "      <td>0</td>\n",
       "      <td>0</td>\n",
       "      <td>0</td>\n",
       "      <td>0</td>\n",
       "      <td>0</td>\n",
       "      <td>0</td>\n",
       "      <td>0</td>\n",
       "      <td>0</td>\n",
       "    </tr>\n",
       "    <tr>\n",
       "      <th>18378</th>\n",
       "      <td>0</td>\n",
       "      <td>0</td>\n",
       "      <td>0</td>\n",
       "      <td>0</td>\n",
       "      <td>0</td>\n",
       "      <td>0</td>\n",
       "      <td>0</td>\n",
       "      <td>0</td>\n",
       "      <td>0</td>\n",
       "      <td>0</td>\n",
       "      <td>...</td>\n",
       "      <td>0</td>\n",
       "      <td>0</td>\n",
       "      <td>0</td>\n",
       "      <td>0</td>\n",
       "      <td>0</td>\n",
       "      <td>0</td>\n",
       "      <td>0</td>\n",
       "      <td>0</td>\n",
       "      <td>0</td>\n",
       "      <td>0</td>\n",
       "    </tr>\n",
       "    <tr>\n",
       "      <th>15616</th>\n",
       "      <td>0</td>\n",
       "      <td>0</td>\n",
       "      <td>0</td>\n",
       "      <td>0</td>\n",
       "      <td>0</td>\n",
       "      <td>0</td>\n",
       "      <td>0</td>\n",
       "      <td>0</td>\n",
       "      <td>0</td>\n",
       "      <td>0</td>\n",
       "      <td>...</td>\n",
       "      <td>0</td>\n",
       "      <td>0</td>\n",
       "      <td>0</td>\n",
       "      <td>0</td>\n",
       "      <td>0</td>\n",
       "      <td>0</td>\n",
       "      <td>0</td>\n",
       "      <td>0</td>\n",
       "      <td>0</td>\n",
       "      <td>0</td>\n",
       "    </tr>\n",
       "    <tr>\n",
       "      <th>12668</th>\n",
       "      <td>0</td>\n",
       "      <td>0</td>\n",
       "      <td>0</td>\n",
       "      <td>0</td>\n",
       "      <td>0</td>\n",
       "      <td>0</td>\n",
       "      <td>0</td>\n",
       "      <td>0</td>\n",
       "      <td>0</td>\n",
       "      <td>0</td>\n",
       "      <td>...</td>\n",
       "      <td>0</td>\n",
       "      <td>0</td>\n",
       "      <td>0</td>\n",
       "      <td>0</td>\n",
       "      <td>0</td>\n",
       "      <td>0</td>\n",
       "      <td>0</td>\n",
       "      <td>0</td>\n",
       "      <td>0</td>\n",
       "      <td>0</td>\n",
       "    </tr>\n",
       "    <tr>\n",
       "      <th>17063</th>\n",
       "      <td>0</td>\n",
       "      <td>0</td>\n",
       "      <td>0</td>\n",
       "      <td>0</td>\n",
       "      <td>0</td>\n",
       "      <td>0</td>\n",
       "      <td>0</td>\n",
       "      <td>0</td>\n",
       "      <td>0</td>\n",
       "      <td>0</td>\n",
       "      <td>...</td>\n",
       "      <td>0</td>\n",
       "      <td>0</td>\n",
       "      <td>0</td>\n",
       "      <td>0</td>\n",
       "      <td>0</td>\n",
       "      <td>0</td>\n",
       "      <td>0</td>\n",
       "      <td>0</td>\n",
       "      <td>0</td>\n",
       "      <td>0</td>\n",
       "    </tr>\n",
       "  </tbody>\n",
       "</table>\n",
       "<p>5 rows × 784 columns</p>\n",
       "</div>"
      ],
      "text/plain": [
       "       pixel0  pixel1  pixel2  pixel3  pixel4  pixel5  pixel6  pixel7  pixel8  \\\n",
       "11119       0       0       0       0       0       0       0       0       0   \n",
       "18378       0       0       0       0       0       0       0       0       0   \n",
       "15616       0       0       0       0       0       0       0       0       0   \n",
       "12668       0       0       0       0       0       0       0       0       0   \n",
       "17063       0       0       0       0       0       0       0       0       0   \n",
       "\n",
       "       pixel9  ...  pixel774  pixel775  pixel776  pixel777  pixel778  \\\n",
       "11119       0  ...         0         0         0         0         0   \n",
       "18378       0  ...         0         0         0         0         0   \n",
       "15616       0  ...         0         0         0         0         0   \n",
       "12668       0  ...         0         0         0         0         0   \n",
       "17063       0  ...         0         0         0         0         0   \n",
       "\n",
       "       pixel779  pixel780  pixel781  pixel782  pixel783  \n",
       "11119         0         0         0         0         0  \n",
       "18378         0         0         0         0         0  \n",
       "15616         0         0         0         0         0  \n",
       "12668         0         0         0         0         0  \n",
       "17063         0         0         0         0         0  \n",
       "\n",
       "[5 rows x 784 columns]"
      ]
     },
     "execution_count": 39,
     "metadata": {},
     "output_type": "execute_result"
    }
   ],
   "source": [
    "test_df = pd.read_csv(path_data + 'test.csv')\n",
    "\n",
    "test_df.sample(5)"
   ]
  },
  {
   "cell_type": "markdown",
   "metadata": {},
   "source": [
    "Ahora se va comprobar si tenemos algún valor `null` y la forma de los datos."
   ]
  },
  {
   "cell_type": "code",
   "execution_count": 40,
   "metadata": {
    "execution": {
     "iopub.execute_input": "2023-04-08T10:16:38.664269Z",
     "iopub.status.busy": "2023-04-08T10:16:38.663320Z",
     "iopub.status.idle": "2023-04-08T10:16:38.698505Z",
     "shell.execute_reply": "2023-04-08T10:16:38.697327Z",
     "shell.execute_reply.started": "2023-04-08T10:16:38.664215Z"
    }
   },
   "outputs": [
    {
     "name": "stdout",
     "output_type": "stream",
     "text": [
      "Shape: (28000, 784)\n",
      "Cantidad de valores null: 0\n"
     ]
    }
   ],
   "source": [
    "print(('Shape: ' + str(test_df.shape)))\n",
    "print('Cantidad de valores null: ' + str(test_df.isnull().sum().sum()))"
   ]
  },
  {
   "cell_type": "markdown",
   "metadata": {},
   "source": [
    "Con esto comprobamos que, efectivamente, los datos de prueba tienen la misma estructura que los datos de entrenamiento.\n",
    "\n",
    "Así que vamos a estructurarlos en una matriz de 28x28 al igual que se hizo anteriormente con los datos de entrenamiento."
   ]
  },
  {
   "cell_type": "code",
   "execution_count": 41,
   "metadata": {
    "execution": {
     "iopub.execute_input": "2023-04-08T10:17:46.860669Z",
     "iopub.status.busy": "2023-04-08T10:17:46.859723Z",
     "iopub.status.idle": "2023-04-08T10:17:46.866314Z",
     "shell.execute_reply": "2023-04-08T10:17:46.865165Z",
     "shell.execute_reply.started": "2023-04-08T10:17:46.860617Z"
    }
   },
   "outputs": [],
   "source": [
    "X_test = test_df.values.reshape(-1, 28, 28, 1)"
   ]
  },
  {
   "cell_type": "markdown",
   "metadata": {},
   "source": [
    "Utilizando el `test_generator` que se definió anteriormente para los datos de validación se va a construir un nuevo iterador para los datos de test. Al igual que para los datos de validación la única transformación que se hará sobre estos datos será la de normalizar los datos para que estén en la escala correcta.\n",
    "\n",
    "***Nota:*** al crear un iterador para los datos de test es muy importante marcar la opción de `shuffle` a `False` para que en la predicción no se desordenen las predicciones, y así sepamos a que dato de entrada corresponde cada predicción."
   ]
  },
  {
   "cell_type": "code",
   "execution_count": 42,
   "metadata": {},
   "outputs": [],
   "source": [
    "test_iterator = test_generator.flow(X_test, batch_size=batch_size, seed=seed, shuffle=False)"
   ]
  },
  {
   "cell_type": "markdown",
   "metadata": {},
   "source": [
    "Ahora ya se pueden predecir los datos de prueba."
   ]
  },
  {
   "cell_type": "code",
   "execution_count": 43,
   "metadata": {
    "execution": {
     "iopub.execute_input": "2023-04-08T10:27:05.919101Z",
     "iopub.status.busy": "2023-04-08T10:27:05.918714Z",
     "iopub.status.idle": "2023-04-08T10:27:11.237716Z",
     "shell.execute_reply": "2023-04-08T10:27:11.236515Z",
     "shell.execute_reply.started": "2023-04-08T10:27:05.919067Z"
    }
   },
   "outputs": [
    {
     "name": "stdout",
     "output_type": "stream",
     "text": [
      "438/438 [==============================] - 39s 89ms/step\n"
     ]
    }
   ],
   "source": [
    "y_pred = loaded_model.predict(test_iterator)\n",
    "y_pred_classes = np.argmax(y_pred, axis = 1)"
   ]
  },
  {
   "cell_type": "markdown",
   "metadata": {},
   "source": [
    "Vamos a visualizar algunas predicciones junto con la imagen correspondiente."
   ]
  },
  {
   "cell_type": "code",
   "execution_count": 44,
   "metadata": {
    "execution": {
     "iopub.execute_input": "2023-04-08T10:19:52.676003Z",
     "iopub.status.busy": "2023-04-08T10:19:52.675505Z",
     "iopub.status.idle": "2023-04-08T10:20:02.050201Z",
     "shell.execute_reply": "2023-04-08T10:20:02.048982Z",
     "shell.execute_reply.started": "2023-04-08T10:19:52.675967Z"
    }
   },
   "outputs": [
    {
     "data": {
      "image/png": "[encoded data removed]",
      "text/plain": [
       "<Figure size 720x864 with 16 Axes>"
      ]
     },
     "metadata": {
      "needs_background": "light"
     },
     "output_type": "display_data"
    }
   ],
   "source": [
    "fig, axis = plt.subplots(4, 4, figsize=(10, 12))\n",
    "for i, ax in enumerate(axis.flat):\n",
    "    ax.imshow(X_test[i], cmap='binary')\n",
    "    ax.set(title = \"Predict is \" + str(y_pred_classes[i]))"
   ]
  },
  {
   "cell_type": "markdown",
   "metadata": {},
   "source": [
    "Finalmente, se crea un `.csv` que almacene el id de la imagen junto con la predicción obtenida."
   ]
  },
  {
   "cell_type": "code",
   "execution_count": 45,
   "metadata": {
    "execution": {
     "iopub.execute_input": "2023-04-08T10:27:14.025243Z",
     "iopub.status.busy": "2023-04-08T10:27:14.024307Z",
     "iopub.status.idle": "2023-04-08T10:27:14.046560Z",
     "shell.execute_reply": "2023-04-08T10:27:14.045330Z",
     "shell.execute_reply.started": "2023-04-08T10:27:14.025190Z"
    }
   },
   "outputs": [
    {
     "data": {
      "text/html": [
       "<div>\n",
       "<style scoped>\n",
       "    .dataframe tbody tr th:only-of-type {\n",
       "        vertical-align: middle;\n",
       "    }\n",
       "\n",
       "    .dataframe tbody tr th {\n",
       "        vertical-align: top;\n",
       "    }\n",
       "\n",
       "    .dataframe thead th {\n",
       "        text-align: right;\n",
       "    }\n",
       "</style>\n",
       "<table border=\"1\" class=\"dataframe\">\n",
       "  <thead>\n",
       "    <tr style=\"text-align: right;\">\n",
       "      <th></th>\n",
       "      <th>ImageId</th>\n",
       "      <th>Label</th>\n",
       "    </tr>\n",
       "  </thead>\n",
       "  <tbody>\n",
       "    <tr>\n",
       "      <th>0</th>\n",
       "      <td>1</td>\n",
       "      <td>2</td>\n",
       "    </tr>\n",
       "    <tr>\n",
       "      <th>1</th>\n",
       "      <td>2</td>\n",
       "      <td>0</td>\n",
       "    </tr>\n",
       "    <tr>\n",
       "      <th>2</th>\n",
       "      <td>3</td>\n",
       "      <td>9</td>\n",
       "    </tr>\n",
       "    <tr>\n",
       "      <th>3</th>\n",
       "      <td>4</td>\n",
       "      <td>0</td>\n",
       "    </tr>\n",
       "    <tr>\n",
       "      <th>4</th>\n",
       "      <td>5</td>\n",
       "      <td>3</td>\n",
       "    </tr>\n",
       "  </tbody>\n",
       "</table>\n",
       "</div>"
      ],
      "text/plain": [
       "   ImageId  Label\n",
       "0        1      2\n",
       "1        2      0\n",
       "2        3      9\n",
       "3        4      0\n",
       "4        5      3"
      ]
     },
     "execution_count": 45,
     "metadata": {},
     "output_type": "execute_result"
    }
   ],
   "source": [
    "results = pd.Series(y_pred_classes,name=\"Label\")\n",
    "\n",
    "submissions=pd.DataFrame({\"ImageId\": list(range(1,len(results)+1)),\n",
    "                         \"Label\": results})\n",
    "\n",
    "submissions.head()"
   ]
  },
  {
   "cell_type": "code",
   "execution_count": 46,
   "metadata": {
    "execution": {
     "iopub.execute_input": "2023-04-08T10:27:25.521381Z",
     "iopub.status.busy": "2023-04-08T10:27:25.520649Z",
     "iopub.status.idle": "2023-04-08T10:27:25.553689Z",
     "shell.execute_reply": "2023-04-08T10:27:25.552563Z",
     "shell.execute_reply.started": "2023-04-08T10:27:25.521343Z"
    }
   },
   "outputs": [],
   "source": [
    "submissions.to_csv(path_data+'submission.csv', index=False, header=True)"
   ]
  }
 ],
 "metadata": {
  "kernelspec": {
   "display_name": "Python 3 (ipykernel)",
   "language": "python",
   "name": "python3"
  },
  "language_info": {
   "codemirror_mode": {
    "name": "ipython",
    "version": 3
   },
   "file_extension": ".py",
   "mimetype": "text/x-python",
   "name": "python",
   "nbconvert_exporter": "python",
   "pygments_lexer": "ipython3",
   "version": "3.10.4"
  }
 },
 "nbformat": 4,
 "nbformat_minor": 4
}
